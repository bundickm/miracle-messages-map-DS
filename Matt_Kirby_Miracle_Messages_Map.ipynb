{
  "nbformat": 4,
  "nbformat_minor": 0,
  "metadata": {
    "colab": {
      "name": "Miracle Messages Map.ipynb",
      "version": "0.3.2",
      "provenance": [],
      "include_colab_link": true
    },
    "kernelspec": {
      "name": "python3",
      "display_name": "Python 3"
    }
  },
  "cells": [
    {
      "cell_type": "markdown",
      "metadata": {
        "id": "view-in-github",
        "colab_type": "text"
      },
      "source": [
        "<a href=\"https://colab.research.google.com/github/mkirby1995/miracle-messages-map-DS/blob/master/Matt_Kirby_Miracle_Messages_Map.ipynb\" target=\"_parent\"><img src=\"https://colab.research.google.com/assets/colab-badge.svg\" alt=\"Open In Colab\"/></a>"
      ]
    },
    {
      "cell_type": "code",
      "metadata": {
        "id": "HDMo8DDyhWxl",
        "colab_type": "code",
        "colab": {
          "base_uri": "https://localhost:8080/",
          "height": 539
        },
        "outputId": "b17211ec-8f0e-47f3-87f6-456c8da3ec0b"
      },
      "source": [
        "import pandas as pd\n",
        "\n",
        "csv = 'https://raw.githubusercontent.com/mkirby1995/miracle_messages/master/Master%20MM%20Volunteers%20-%20MM%20Volunteers.csv'\n",
        "\n",
        "df = pd.read_csv(csv)\n",
        "\n",
        "df.info()"
      ],
      "execution_count": 1,
      "outputs": [
        {
          "output_type": "stream",
          "text": [
            "<class 'pandas.core.frame.DataFrame'>\n",
            "RangeIndex: 7097 entries, 0 to 7096\n",
            "Data columns (total 24 columns):\n",
            "Submitted on          7097 non-null object\n",
            "Email address         7097 non-null object\n",
            "First Name            3181 non-null object\n",
            "Last Name             3003 non-null object\n",
            "Phone                 1117 non-null object\n",
            "City                  4730 non-null object\n",
            "Stateprovince         3467 non-null object\n",
            "Country               3841 non-null object\n",
            "I am interested in    6654 non-null object\n",
            "Comment               1515 non-null object\n",
            "ZIP                   502 non-null object\n",
            "Full Address          4674 non-null object\n",
            "Timezone              3961 non-null object\n",
            "Donations             916 non-null object\n",
            "Donation Date         789 non-null object\n",
            "Donation Source       735 non-null object\n",
            "Source                131 non-null object\n",
            "Company               0 non-null float64\n",
            "Emails sent           6115 non-null float64\n",
            "Opened                6115 non-null float64\n",
            "Clicked               6115 non-null float64\n",
            "Birthday              0 non-null float64\n",
            "Name                  1 non-null object\n",
            "Merge status          4 non-null float64\n",
            "dtypes: float64(6), object(18)\n",
            "memory usage: 1.3+ MB\n"
          ],
          "name": "stdout"
        }
      ]
    },
    {
      "cell_type": "code",
      "metadata": {
        "id": "VSbn3L10hvMj",
        "colab_type": "code",
        "colab": {
          "base_uri": "https://localhost:8080/",
          "height": 394
        },
        "outputId": "45dfcecc-5d8d-4835-e2dc-e51b56ebb4bb"
      },
      "source": [
        "df.head()"
      ],
      "execution_count": 2,
      "outputs": [
        {
          "output_type": "execute_result",
          "data": {
            "text/html": [
              "<div>\n",
              "<style scoped>\n",
              "    .dataframe tbody tr th:only-of-type {\n",
              "        vertical-align: middle;\n",
              "    }\n",
              "\n",
              "    .dataframe tbody tr th {\n",
              "        vertical-align: top;\n",
              "    }\n",
              "\n",
              "    .dataframe thead th {\n",
              "        text-align: right;\n",
              "    }\n",
              "</style>\n",
              "<table border=\"1\" class=\"dataframe\">\n",
              "  <thead>\n",
              "    <tr style=\"text-align: right;\">\n",
              "      <th></th>\n",
              "      <th>Submitted on</th>\n",
              "      <th>Email address</th>\n",
              "      <th>First Name</th>\n",
              "      <th>Last Name</th>\n",
              "      <th>Phone</th>\n",
              "      <th>City</th>\n",
              "      <th>Stateprovince</th>\n",
              "      <th>Country</th>\n",
              "      <th>I am interested in</th>\n",
              "      <th>Comment</th>\n",
              "      <th>ZIP</th>\n",
              "      <th>Full Address</th>\n",
              "      <th>Timezone</th>\n",
              "      <th>Donations</th>\n",
              "      <th>Donation Date</th>\n",
              "      <th>Donation Source</th>\n",
              "      <th>Source</th>\n",
              "      <th>Company</th>\n",
              "      <th>Emails sent</th>\n",
              "      <th>Opened</th>\n",
              "      <th>Clicked</th>\n",
              "      <th>Birthday</th>\n",
              "      <th>Name</th>\n",
              "      <th>Merge status</th>\n",
              "    </tr>\n",
              "  </thead>\n",
              "  <tbody>\n",
              "    <tr>\n",
              "      <th>0</th>\n",
              "      <td>2015-04-08 17:21:31</td>\n",
              "      <td>rachels42@gmail.com</td>\n",
              "      <td>Rachel</td>\n",
              "      <td>Stanley</td>\n",
              "      <td>NaN</td>\n",
              "      <td>Coventry</td>\n",
              "      <td>NaN</td>\n",
              "      <td>United Kingdom</td>\n",
              "      <td>Volunteering, Donating</td>\n",
              "      <td>NaN</td>\n",
              "      <td>CV3 2DD</td>\n",
              "      <td>56</td>\n",
              "      <td>Pacific/Tongatapu</td>\n",
              "      <td>20</td>\n",
              "      <td>27/10/14 5:55</td>\n",
              "      <td>Indiegogo</td>\n",
              "      <td>NaN</td>\n",
              "      <td>NaN</td>\n",
              "      <td>4.0</td>\n",
              "      <td>0.0</td>\n",
              "      <td>0.0</td>\n",
              "      <td>NaN</td>\n",
              "      <td>NaN</td>\n",
              "      <td>NaN</td>\n",
              "    </tr>\n",
              "    <tr>\n",
              "      <th>1</th>\n",
              "      <td>2015-04-08 17:21:24</td>\n",
              "      <td>dmhomee@gmail.com</td>\n",
              "      <td>Praveen</td>\n",
              "      <td>sinha</td>\n",
              "      <td>NaN</td>\n",
              "      <td>San Francisco</td>\n",
              "      <td>CA</td>\n",
              "      <td>USA</td>\n",
              "      <td>Volunteering, Donating</td>\n",
              "      <td>NaN</td>\n",
              "      <td>94110</td>\n",
              "      <td>297</td>\n",
              "      <td>NaN</td>\n",
              "      <td>25</td>\n",
              "      <td>19/12/14 0:00</td>\n",
              "      <td>Indiegogo</td>\n",
              "      <td>NaN</td>\n",
              "      <td>NaN</td>\n",
              "      <td>7.0</td>\n",
              "      <td>0.0</td>\n",
              "      <td>0.0</td>\n",
              "      <td>NaN</td>\n",
              "      <td>NaN</td>\n",
              "      <td>NaN</td>\n",
              "    </tr>\n",
              "    <tr>\n",
              "      <th>2</th>\n",
              "      <td>2015-04-08 17:21:23</td>\n",
              "      <td>joe@simple10.com</td>\n",
              "      <td>Joe</td>\n",
              "      <td>Johnston</td>\n",
              "      <td>NaN</td>\n",
              "      <td>San Francisco</td>\n",
              "      <td>CA</td>\n",
              "      <td>USA</td>\n",
              "      <td>Volunteering, Donating</td>\n",
              "      <td>NaN</td>\n",
              "      <td>94116</td>\n",
              "      <td>2182</td>\n",
              "      <td>America/Los_Angeles</td>\n",
              "      <td>90</td>\n",
              "      <td>27/10/14 18:54</td>\n",
              "      <td>Indiegogo</td>\n",
              "      <td>NaN</td>\n",
              "      <td>NaN</td>\n",
              "      <td>7.0</td>\n",
              "      <td>2.0</td>\n",
              "      <td>0.0</td>\n",
              "      <td>NaN</td>\n",
              "      <td>NaN</td>\n",
              "      <td>NaN</td>\n",
              "    </tr>\n",
              "    <tr>\n",
              "      <th>3</th>\n",
              "      <td>01/14/2017 20:09:53</td>\n",
              "      <td>katierussell58@gmail.com</td>\n",
              "      <td>Katie</td>\n",
              "      <td>Russell</td>\n",
              "      <td>NaN</td>\n",
              "      <td>NaN</td>\n",
              "      <td>NaN</td>\n",
              "      <td>NaN</td>\n",
              "      <td>Volunteering, Media coverage, Openings at MM, ...</td>\n",
              "      <td>I love the message this organization sends, an...</td>\n",
              "      <td>NaN</td>\n",
              "      <td>46037</td>\n",
              "      <td>NaN</td>\n",
              "      <td>NaN</td>\n",
              "      <td>NaN</td>\n",
              "      <td>NaN</td>\n",
              "      <td>NaN</td>\n",
              "      <td>NaN</td>\n",
              "      <td>0.0</td>\n",
              "      <td>0.0</td>\n",
              "      <td>0.0</td>\n",
              "      <td>NaN</td>\n",
              "      <td>NaN</td>\n",
              "      <td>NaN</td>\n",
              "    </tr>\n",
              "    <tr>\n",
              "      <th>4</th>\n",
              "      <td>2015-04-08 17:21:33</td>\n",
              "      <td>anatoledanogarcia@gmail.com</td>\n",
              "      <td>Ana</td>\n",
              "      <td>Toledano Garcia</td>\n",
              "      <td>NaN</td>\n",
              "      <td>San Francisco</td>\n",
              "      <td>CA</td>\n",
              "      <td>USA</td>\n",
              "      <td>Volunteering, Donating</td>\n",
              "      <td>NaN</td>\n",
              "      <td>94103</td>\n",
              "      <td>415536472</td>\n",
              "      <td>Europe/Andorra</td>\n",
              "      <td>20</td>\n",
              "      <td>21/10/14 14:58</td>\n",
              "      <td>Indiegogo</td>\n",
              "      <td>NaN</td>\n",
              "      <td>NaN</td>\n",
              "      <td>7.0</td>\n",
              "      <td>4.0</td>\n",
              "      <td>0.0</td>\n",
              "      <td>NaN</td>\n",
              "      <td>NaN</td>\n",
              "      <td>NaN</td>\n",
              "    </tr>\n",
              "  </tbody>\n",
              "</table>\n",
              "</div>"
            ],
            "text/plain": [
              "          Submitted on                Email address  ... Name Merge status\n",
              "0  2015-04-08 17:21:31          rachels42@gmail.com  ...  NaN          NaN\n",
              "1  2015-04-08 17:21:24            dmhomee@gmail.com  ...  NaN          NaN\n",
              "2  2015-04-08 17:21:23             joe@simple10.com  ...  NaN          NaN\n",
              "3  01/14/2017 20:09:53     katierussell58@gmail.com  ...  NaN          NaN\n",
              "4  2015-04-08 17:21:33  anatoledanogarcia@gmail.com  ...  NaN          NaN\n",
              "\n",
              "[5 rows x 24 columns]"
            ]
          },
          "metadata": {
            "tags": []
          },
          "execution_count": 2
        }
      ]
    },
    {
      "cell_type": "markdown",
      "metadata": {
        "id": "B_DZQFNenfym",
        "colab_type": "text"
      },
      "source": [
        "# Cleaning"
      ]
    },
    {
      "cell_type": "markdown",
      "metadata": {
        "id": "a2Hbknzmnc-R",
        "colab_type": "text"
      },
      "source": [
        "## First Name"
      ]
    },
    {
      "cell_type": "code",
      "metadata": {
        "id": "3kYniZBCu8gP",
        "colab_type": "code",
        "colab": {
          "base_uri": "https://localhost:8080/",
          "height": 35
        },
        "outputId": "47d4fed4-4d59-471f-b8eb-592b69638e2b"
      },
      "source": [
        "df['First Name'].isna().sum()"
      ],
      "execution_count": 3,
      "outputs": [
        {
          "output_type": "execute_result",
          "data": {
            "text/plain": [
              "3916"
            ]
          },
          "metadata": {
            "tags": []
          },
          "execution_count": 3
        }
      ]
    },
    {
      "cell_type": "code",
      "metadata": {
        "id": "FommySbqvDJm",
        "colab_type": "code",
        "colab": {}
      },
      "source": [
        "df['First Name'] = df['First Name'].str.title()"
      ],
      "execution_count": 0,
      "outputs": []
    },
    {
      "cell_type": "code",
      "metadata": {
        "id": "e-9-QR4owBSp",
        "colab_type": "code",
        "colab": {}
      },
      "source": [
        "df['First Name'] = df['First Name'].fillna('Unknown')"
      ],
      "execution_count": 0,
      "outputs": []
    },
    {
      "cell_type": "code",
      "metadata": {
        "id": "nkH_lsECwIf1",
        "colab_type": "code",
        "colab": {
          "base_uri": "https://localhost:8080/",
          "height": 35
        },
        "outputId": "b4cf22b9-afec-4ab3-8561-a8624af4102b"
      },
      "source": [
        "df['First Name'].isna().sum()"
      ],
      "execution_count": 6,
      "outputs": [
        {
          "output_type": "execute_result",
          "data": {
            "text/plain": [
              "0"
            ]
          },
          "metadata": {
            "tags": []
          },
          "execution_count": 6
        }
      ]
    },
    {
      "cell_type": "markdown",
      "metadata": {
        "id": "_5P3hf6nwQ3m",
        "colab_type": "text"
      },
      "source": [
        "\n",
        "\n",
        "---\n",
        "\n"
      ]
    },
    {
      "cell_type": "markdown",
      "metadata": {
        "id": "FfZcyVEgwSgU",
        "colab_type": "text"
      },
      "source": [
        "## Last Name"
      ]
    },
    {
      "cell_type": "code",
      "metadata": {
        "colab_type": "code",
        "outputId": "af6c3347-2c2d-478d-9b36-ff5dea93c45a",
        "id": "VJ-Zp_cawfQW",
        "colab": {
          "base_uri": "https://localhost:8080/",
          "height": 35
        }
      },
      "source": [
        "df['Last Name'].isna().sum()"
      ],
      "execution_count": 7,
      "outputs": [
        {
          "output_type": "execute_result",
          "data": {
            "text/plain": [
              "4094"
            ]
          },
          "metadata": {
            "tags": []
          },
          "execution_count": 7
        }
      ]
    },
    {
      "cell_type": "code",
      "metadata": {
        "colab_type": "code",
        "id": "Nwm9YM2RwfQb",
        "colab": {}
      },
      "source": [
        "df['Last Name'] = df['Last Name'].str.title()"
      ],
      "execution_count": 0,
      "outputs": []
    },
    {
      "cell_type": "code",
      "metadata": {
        "colab_type": "code",
        "id": "oCRtDne8wfQe",
        "colab": {}
      },
      "source": [
        "df['Last Name'] = df['Last Name'].fillna('Unknown')"
      ],
      "execution_count": 0,
      "outputs": []
    },
    {
      "cell_type": "code",
      "metadata": {
        "colab_type": "code",
        "outputId": "f2a99929-ab08-498a-ebb7-fff01841d95c",
        "id": "dVtjXRXtwfQj",
        "colab": {
          "base_uri": "https://localhost:8080/",
          "height": 35
        }
      },
      "source": [
        "df['Last Name'].isna().sum()"
      ],
      "execution_count": 10,
      "outputs": [
        {
          "output_type": "execute_result",
          "data": {
            "text/plain": [
              "0"
            ]
          },
          "metadata": {
            "tags": []
          },
          "execution_count": 10
        }
      ]
    },
    {
      "cell_type": "markdown",
      "metadata": {
        "id": "Twia3jaYwlc_",
        "colab_type": "text"
      },
      "source": [
        "\n",
        "\n",
        "---\n",
        "\n"
      ]
    },
    {
      "cell_type": "markdown",
      "metadata": {
        "colab_type": "text",
        "id": "NhUg-OGPwnjx"
      },
      "source": [
        "## Phone"
      ]
    },
    {
      "cell_type": "code",
      "metadata": {
        "id": "grH6Kc9b2KCD",
        "colab_type": "code",
        "colab": {
          "base_uri": "https://localhost:8080/",
          "height": 35
        },
        "outputId": "558033b2-b0e2-46df-d462-41795df1bf9c"
      },
      "source": [
        "df['Phone'].isna().sum()"
      ],
      "execution_count": 11,
      "outputs": [
        {
          "output_type": "execute_result",
          "data": {
            "text/plain": [
              "5980"
            ]
          },
          "metadata": {
            "tags": []
          },
          "execution_count": 11
        }
      ]
    },
    {
      "cell_type": "code",
      "metadata": {
        "id": "EltDR0WIy9a8",
        "colab_type": "code",
        "colab": {}
      },
      "source": [
        "# Remove all +, -, and () from phone numbers \n",
        "df['Phone'] = df['Phone'].astype(str).str.replace('[+,\\-,(,),\\ ]', '')"
      ],
      "execution_count": 0,
      "outputs": []
    },
    {
      "cell_type": "code",
      "metadata": {
        "colab_type": "code",
        "id": "v4HnT9aIwnjy",
        "colab": {}
      },
      "source": [
        "# Format the phone numbers _(___)___-____\n",
        "df['Phone'] = df['Phone'].astype(str).apply(lambda x:\n",
        "            x[:-10] + '(' + x[-10:-7] + ')' + x[-7:-4] + '-' + x[-4:])"
      ],
      "execution_count": 0,
      "outputs": []
    },
    {
      "cell_type": "code",
      "metadata": {
        "id": "-mB2vhpGBcAp",
        "colab_type": "code",
        "colab": {}
      },
      "source": [
        "# Replace nan values with Unknown\n",
        "df['Phone'] = df['Phone'].replace({'() -nan':'Unknown'})"
      ],
      "execution_count": 0,
      "outputs": []
    },
    {
      "cell_type": "markdown",
      "metadata": {
        "id": "IQbfhB4HCvlg",
        "colab_type": "text"
      },
      "source": [
        "### Add phone numbers found in comments"
      ]
    },
    {
      "cell_type": "code",
      "metadata": {
        "id": "9snUrT4mB3hh",
        "colab_type": "code",
        "colab": {
          "base_uri": "https://localhost:8080/",
          "height": 53
        },
        "outputId": "fe9f6b8d-ae29-4eae-feac-b3112294e474"
      },
      "source": [
        "df['Phone'].loc[3245], df['Comment'].loc[3245]"
      ],
      "execution_count": 27,
      "outputs": [
        {
          "output_type": "execute_result",
          "data": {
            "text/plain": [
              "('Unknown',\n",
              " 'Lost your number and I had a few questions I may need your help 2073100383')"
            ]
          },
          "metadata": {
            "tags": []
          },
          "execution_count": 27
        }
      ]
    },
    {
      "cell_type": "code",
      "metadata": {
        "id": "L3vdR4ChCJLU",
        "colab_type": "code",
        "colab": {}
      },
      "source": [
        "df['Phone'].loc[3245] = '(207)310-0383'"
      ],
      "execution_count": 0,
      "outputs": []
    },
    {
      "cell_type": "code",
      "metadata": {
        "id": "sp5hvohLCS3X",
        "colab_type": "code",
        "colab": {
          "base_uri": "https://localhost:8080/",
          "height": 73
        },
        "outputId": "7a5c7db3-ebd7-4788-b215-c3403251e19b"
      },
      "source": [
        "df['Phone'].loc[4445], df['Comment'].loc[4445]"
      ],
      "execution_count": 28,
      "outputs": [
        {
          "output_type": "execute_result",
          "data": {
            "text/plain": [
              "('Unknown',\n",
              " 'I am an serious hobby photographer who would be interested in making videos for the homeless and to also take photos, print them free, and mail them to family. What you are going is fabulous !!Sandra Grant778-386-3122')"
            ]
          },
          "metadata": {
            "tags": []
          },
          "execution_count": 28
        }
      ]
    },
    {
      "cell_type": "code",
      "metadata": {
        "id": "C2A12ts-CaTe",
        "colab_type": "code",
        "colab": {}
      },
      "source": [
        "df['Phone'].loc[4445] = '(778)386-3122'"
      ],
      "execution_count": 0,
      "outputs": []
    },
    {
      "cell_type": "code",
      "metadata": {
        "id": "fVBU8D-xCixx",
        "colab_type": "code",
        "colab": {
          "base_uri": "https://localhost:8080/",
          "height": 73
        },
        "outputId": "610dca58-0072-4fa7-df31-9ad69d56e2d6"
      },
      "source": [
        "df['Phone'].loc[6841], df['Comment'].loc[6841]"
      ],
      "execution_count": 29,
      "outputs": [
        {
          "output_type": "execute_result",
          "data": {
            "text/plain": [
              "('Unknown',\n",
              " 'I would love to help in anyway I can , being an Advocate for Missing persons I interact with the homeless communities all the time . i can be reached at 858-212-7503')"
            ]
          },
          "metadata": {
            "tags": []
          },
          "execution_count": 29
        }
      ]
    },
    {
      "cell_type": "code",
      "metadata": {
        "id": "qHpG6ShhCnPW",
        "colab_type": "code",
        "colab": {}
      },
      "source": [
        "df['Phone'].loc[6841] = '(858)212-7503'"
      ],
      "execution_count": 0,
      "outputs": []
    },
    {
      "cell_type": "markdown",
      "metadata": {
        "colab_type": "text",
        "id": "DOUFHx9fwnkA"
      },
      "source": [
        "\n",
        "\n",
        "---\n",
        "\n"
      ]
    },
    {
      "cell_type": "markdown",
      "metadata": {
        "id": "qgml4b1tDpoO",
        "colab_type": "text"
      },
      "source": [
        "## I am interested in"
      ]
    },
    {
      "cell_type": "markdown",
      "metadata": {
        "id": "brH7wNnsElf1",
        "colab_type": "text"
      },
      "source": [
        "### Create a seperate column for those interested in volenteering "
      ]
    },
    {
      "cell_type": "code",
      "metadata": {
        "id": "MKLQMVgEDq3O",
        "colab_type": "code",
        "colab": {}
      },
      "source": [
        "df['Interested in Volenteering'] = df['I am interested in'].str.contains('Volunteering')"
      ],
      "execution_count": 0,
      "outputs": []
    },
    {
      "cell_type": "code",
      "metadata": {
        "id": "6q5coW8YEs4y",
        "colab_type": "code",
        "colab": {}
      },
      "source": [
        "df['Interested in Volenteering'] = df['Interested in Volenteering'].fillna(False)"
      ],
      "execution_count": 0,
      "outputs": []
    },
    {
      "cell_type": "code",
      "metadata": {
        "id": "-fokKhDkDxY-",
        "colab_type": "code",
        "colab": {
          "base_uri": "https://localhost:8080/",
          "height": 89
        },
        "outputId": "e71ca9b2-ec6e-406e-c236-16ea138daa43"
      },
      "source": [
        "df['Interested in Volenteering'].value_counts()"
      ],
      "execution_count": 35,
      "outputs": [
        {
          "output_type": "execute_result",
          "data": {
            "text/plain": [
              "True     5858\n",
              "False     796\n",
              "False     443\n",
              "Name: Interested in Volenteering, dtype: int64"
            ]
          },
          "metadata": {
            "tags": []
          },
          "execution_count": 35
        }
      ]
    },
    {
      "cell_type": "markdown",
      "metadata": {
        "id": "TDRQ8-sIFYYI",
        "colab_type": "text"
      },
      "source": [
        "### Create a seperate column for those interested in donating "
      ]
    },
    {
      "cell_type": "code",
      "metadata": {
        "id": "zZr6hBHmE1XN",
        "colab_type": "code",
        "colab": {}
      },
      "source": [
        "df['Interested in Donating'] = df['I am interested in'].str.contains('Donating')"
      ],
      "execution_count": 0,
      "outputs": []
    },
    {
      "cell_type": "code",
      "metadata": {
        "id": "KcBvUQpHFCFG",
        "colab_type": "code",
        "colab": {}
      },
      "source": [
        "df['Interested in Donating'] = df['Interested in Donating'].fillna(False)"
      ],
      "execution_count": 0,
      "outputs": []
    },
    {
      "cell_type": "code",
      "metadata": {
        "id": "noqOGnZbFlLU",
        "colab_type": "code",
        "colab": {
          "base_uri": "https://localhost:8080/",
          "height": 71
        },
        "outputId": "f17b3241-69cf-4493-8d23-e0260c113441"
      },
      "source": [
        "df['Interested in Donating'].value_counts()"
      ],
      "execution_count": 42,
      "outputs": [
        {
          "output_type": "execute_result",
          "data": {
            "text/plain": [
              "False    6034\n",
              "True     1063\n",
              "Name: Interested in Donating, dtype: int64"
            ]
          },
          "metadata": {
            "tags": []
          },
          "execution_count": 42
        }
      ]
    },
    {
      "cell_type": "code",
      "metadata": {
        "id": "RIjhWAGBFmkg",
        "colab_type": "code",
        "colab": {}
      },
      "source": [
        ""
      ],
      "execution_count": 0,
      "outputs": []
    }
  ]
}